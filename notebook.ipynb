{
 "metadata": {
  "language_info": {
   "codemirror_mode": {
    "name": "ipython",
    "version": 3
   },
   "file_extension": ".py",
   "mimetype": "text/x-python",
   "name": "python",
   "nbconvert_exporter": "python",
   "pygments_lexer": "ipython3",
   "version": "3.8.5-final"
  },
  "orig_nbformat": 2,
  "kernelspec": {
   "name": "python38564bitwithercondafc4eb77d392f41aaa668a52d41c52291",
   "display_name": "Python 3.8.5 64-bit ('wither': conda)"
  }
 },
 "nbformat": 4,
 "nbformat_minor": 2,
 "cells": [
  {
   "cell_type": "code",
   "execution_count": 1,
   "metadata": {},
   "outputs": [],
   "source": [
    "from wither.open_weather_map.client import OpenWeatherMapClient"
   ]
  },
  {
   "cell_type": "code",
   "execution_count": 2,
   "metadata": {},
   "outputs": [],
   "source": [
    "owc = OpenWeatherMapClient(\"33.9249\", \"18.4241\")"
   ]
  },
  {
   "cell_type": "code",
   "execution_count": 3,
   "metadata": {},
   "outputs": [
    {
     "output_type": "execute_result",
     "data": {
      "text/plain": "{'cod': '400', 'message': 'no location or time specified'}"
     },
     "metadata": {},
     "execution_count": 3
    }
   ],
   "source": [
    "owc.get()"
   ]
  },
  {
   "cell_type": "code",
   "execution_count": 22,
   "metadata": {},
   "outputs": [],
   "source": [
    "import os\n",
    "import requests\n",
    "url = f'https://api.openweathermap.org/data/2.5/onecall?lat=33.441792&lon=-94.037689&exclude=current,minutely,daily&dt=1598090400&appid={os.environ.get(\"OPEN_WEATHER_API_KEY\")}&units=metric'\n",
    "# url = 'https://api.openweathermap.org/data/2.5/onecall?appid=1f2c542e9f8388552275fe13fcdcde42&lat=33.9249&lon=18.4241&exclude=current%2Cminutely%2Chourly'"
   ]
  },
  {
   "cell_type": "code",
   "execution_count": 33,
   "metadata": {},
   "outputs": [
    {
     "output_type": "execute_result",
     "data": {
      "text/plain": "{'dt': 1598810400,\n 'sunrise': 1598788168,\n 'sunset': 1598834652,\n 'temp': {'day': 28.69,\n  'min': 21.17,\n  'max': 28.69,\n  'night': 28.69,\n  'eve': 28.69,\n  'morn': 21.17},\n 'feels_like': {'day': 32.42, 'night': 32.42, 'eve': 32.42, 'morn': 22.82},\n 'pressure': 1012,\n 'humidity': 74,\n 'dew_point': 23.79,\n 'wind_speed': 2.64,\n 'wind_deg': 99,\n 'weather': [{'id': 501,\n   'main': 'Rain',\n   'description': 'moderate rain',\n   'icon': '10d'}],\n 'clouds': 83,\n 'pop': 1,\n 'rain': 3.1,\n 'uvi': 10.41}"
     },
     "metadata": {},
     "execution_count": 33
    }
   ],
   "source": [
    "response = requests.get(url).json().get('daily')\n",
    "obj = response[-1]\n",
    "obj"
   ]
  },
  {
   "cell_type": "code",
   "execution_count": 19,
   "metadata": {},
   "outputs": [
    {
     "output_type": "execute_result",
     "data": {
      "text/plain": "1598090400.0"
     },
     "metadata": {},
     "execution_count": 19
    }
   ],
   "source": [
    "from datetime import datetime\n",
    "datetime.fromtimestamp(1598090401).replace(hour=12, minute=0, second=0).timestamp()"
   ]
  },
  {
   "cell_type": "code",
   "execution_count": 17,
   "metadata": {},
   "outputs": [
    {
     "output_type": "execute_result",
     "data": {
      "text/plain": "29.29"
     },
     "metadata": {},
     "execution_count": 17
    }
   ],
   "source": [
    "round(sum([(22.27 + 32.13) / 2, (20.73 + 42.02) / 2]) / 2, 2)"
   ]
  },
  {
   "cell_type": "code",
   "execution_count": 34,
   "metadata": {},
   "outputs": [],
   "source": [
    "from geopy import geocoders\n",
    "gn = geocoders.GeoNames()"
   ]
  },
  {
   "cell_type": "code",
   "execution_count": null,
   "metadata": {},
   "outputs": [],
   "source": []
  }
 ]
}