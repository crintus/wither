{
 "metadata": {
  "language_info": {
   "codemirror_mode": {
    "name": "ipython",
    "version": 3
   },
   "file_extension": ".py",
   "mimetype": "text/x-python",
   "name": "python",
   "nbconvert_exporter": "python",
   "pygments_lexer": "ipython3",
   "version": "3.8.5-final"
  },
  "orig_nbformat": 2,
  "kernelspec": {
   "name": "python38564bitwithercondafc4eb77d392f41aaa668a52d41c52291",
   "display_name": "Python 3.8.5 64-bit ('wither': conda)"
  }
 },
 "nbformat": 4,
 "nbformat_minor": 2,
 "cells": [
  {
   "cell_type": "code",
   "execution_count": 1,
   "metadata": {},
   "outputs": [],
   "source": [
    "from wither.open_weather_map.client import OpenWeatherMapClient"
   ]
  },
  {
   "cell_type": "code",
   "execution_count": 2,
   "metadata": {},
   "outputs": [],
   "source": [
    "owc = OpenWeatherMapClient(\"33.9249\", \"18.4241\")"
   ]
  },
  {
   "cell_type": "code",
   "execution_count": 3,
   "metadata": {},
   "outputs": [
    {
     "output_type": "execute_result",
     "data": {
      "text/plain": "{'cod': '400', 'message': 'no location or time specified'}"
     },
     "metadata": {},
     "execution_count": 3
    }
   ],
   "source": [
    "owc.get()"
   ]
  },
  {
   "cell_type": "code",
   "execution_count": 1,
   "metadata": {},
   "outputs": [
    {
     "output_type": "execute_result",
     "data": {
      "text/plain": "<Response [400]>"
     },
     "metadata": {},
     "execution_count": 1
    }
   ],
   "source": [
    "import os\n",
    "import requests\n",
    "url = f'https://api.openweathermap.org/data/2.5/onecall?lat=33.441792&lon=-94.037689&exclude=hourly,daily&appid={os.environ.get(\"OPEN_WEATHER_API_KEY\")}'\n",
    "url = 'https://api.openweathermap.org/data/2.5/onecall?appid=1f2c542e9f8388552275fe13fcdcde42&lat=33.9249&lon=18.4241&exclude=current%2Cminutely%2Chourly'\n",
    "\n",
    "requests.get(url)"
   ]
  },
  {
   "cell_type": "code",
   "execution_count": 6,
   "metadata": {},
   "outputs": [
    {
     "output_type": "execute_result",
     "data": {
      "text/plain": "1598047200.0"
     },
     "metadata": {},
     "execution_count": 6
    }
   ],
   "source": [
    "from datetime import datetime\n",
    "datetime.fromtimestamp(1598090401).replace(minute=0, second=0).timestamp()"
   ]
  },
  {
   "cell_type": "code",
   "execution_count": null,
   "metadata": {},
   "outputs": [],
   "source": []
  }
 ]
}